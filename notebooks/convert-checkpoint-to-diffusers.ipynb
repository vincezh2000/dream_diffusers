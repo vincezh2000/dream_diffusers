{
 "cells": [
  {
   "cell_type": "code",
   "id": "2878bb5d-33a3-4a5b-b15c-c832c700129b",
   "metadata": {
    "ExecuteTime": {
     "end_time": "2024-04-30T05:39:24.875927Z",
     "start_time": "2024-04-30T05:39:24.869576Z"
    }
   },
   "source": "%cd ..",
   "outputs": [
    {
     "name": "stdout",
     "output_type": "stream",
     "text": [
      "/home/vince/Documents/GitHub/PixArt-alpha\n"
     ]
    }
   ],
   "execution_count": 1
  },
  {
   "metadata": {
    "ExecuteTime": {
     "end_time": "2024-04-30T05:44:30.331515Z",
     "start_time": "2024-04-30T05:44:30.026038Z"
    }
   },
   "cell_type": "code",
   "source": "!pwd",
   "id": "8b2cc632d73825b2",
   "outputs": [
    {
     "name": "stdout",
     "output_type": "stream",
     "text": [
      "/home/vince/Documents/GitHub/PixArt-alpha\r\n"
     ]
    }
   ],
   "execution_count": 5
  },
  {
   "cell_type": "code",
   "id": "7dd2d98c-3f8f-40f1-a9e1-bc916774afb3",
   "metadata": {
    "ExecuteTime": {
     "end_time": "2024-04-30T04:53:26.663521Z",
     "start_time": "2024-04-30T04:53:15.822245Z"
    }
   },
   "source": [
    "# !python tools/convert_pixart_alpha_to_diffusers.py \\\n",
    "#     --orig_ckpt_path \"output/pretrained_models/PixArt-XL-2-512x512.pth\" \\\n",
    "#     --dump_path \"output/diffusers_trained\" \\\n",
    "#     --only_transformer=True \\\n",
    "#     --image_size 512 \\\n",
    "#     --multi_scale_train=False\n"
   ],
   "outputs": [
    {
     "name": "stdout",
     "output_type": "stream",
     "text": [
      "Total number of transformer parameters: 610856096\r\n"
     ]
    }
   ],
   "execution_count": 6
  },
  {
   "metadata": {
    "ExecuteTime": {
     "end_time": "2024-04-30T05:44:34.823255Z",
     "start_time": "2024-04-30T05:44:34.821004Z"
    }
   },
   "cell_type": "code",
   "source": [
    "import torch\n",
    "from diffusers import Transformer2DModel, PixArtAlphaPipeline\n",
    "from transformers import T5EncoderModel\n",
    "from diffusers import AutoencoderKL, DPMSolverMultistepScheduler"
   ],
   "id": "f4071e96909d03eb",
   "outputs": [],
   "execution_count": 7
  },
  {
   "metadata": {
    "ExecuteTime": {
     "end_time": "2024-04-30T05:47:41.364589Z",
     "start_time": "2024-04-30T05:47:40.772264Z"
    }
   },
   "cell_type": "code",
   "source": [
    "text_encoder = T5EncoderModel.from_pretrained(\n",
    "    \"PixArt-alpha/PixArt-XL-2-512x512\",\n",
    "    subfolder=\"text_encoder\",\n",
    "    device_map=\"auto\",\n",
    ")"
   ],
   "id": "6b3fb94c3134f6c4",
   "outputs": [
    {
     "data": {
      "text/plain": [
       "Downloading shards:   0%|          | 0/4 [00:00<?, ?it/s]"
      ],
      "application/vnd.jupyter.widget-view+json": {
       "version_major": 2,
       "version_minor": 0,
       "model_id": "13d28227cd7249668c9f95228807c81c"
      }
     },
     "metadata": {},
     "output_type": "display_data"
    },
    {
     "data": {
      "text/plain": [
       "Loading checkpoint shards:   0%|          | 0/4 [00:00<?, ?it/s]"
      ],
      "application/vnd.jupyter.widget-view+json": {
       "version_major": 2,
       "version_minor": 0,
       "model_id": "e3d4f0b33e75413aa1b449518eb40e76"
      }
     },
     "metadata": {},
     "output_type": "display_data"
    }
   ],
   "execution_count": 12
  },
  {
   "metadata": {
    "ExecuteTime": {
     "end_time": "2024-04-30T05:47:43.564030Z",
     "start_time": "2024-04-30T05:47:43.533532Z"
    }
   },
   "cell_type": "code",
   "source": "dpm = DPMSolverMultistepScheduler.from_pretrained(\"PixArt-alpha/PixArt-XL-2-512x512\", subfolder=\"scheduler\", use_safetensors=True)\n",
   "id": "98fccf568d57a19c",
   "outputs": [],
   "execution_count": 13
  },
  {
   "metadata": {
    "ExecuteTime": {
     "end_time": "2024-04-30T05:47:53.374914Z",
     "start_time": "2024-04-30T05:47:53.296512Z"
    }
   },
   "cell_type": "code",
   "source": [
    "vae = AutoencoderKL.from_pretrained(\"PixArt-alpha/PixArt-XL-2-512x512\", subfolder=\"vae\", use_safetensors=True)\n",
    "# t5_tokenizer = text_encoder.tokenizer"
   ],
   "id": "ddf31d5a655de5b5",
   "outputs": [],
   "execution_count": 14
  },
  {
   "metadata": {
    "ExecuteTime": {
     "end_time": "2024-04-30T05:48:22.009882Z",
     "start_time": "2024-04-30T05:48:21.520726Z"
    }
   },
   "cell_type": "code",
   "source": "transformer = Transformer2DModel.from_pretrained(\"/home/vince/Documents/GitHub/diffuser/transformer\", torch_dtype=torch.float16)\n",
   "id": "6e374cc8a689dfc8",
   "outputs": [],
   "execution_count": 15
  },
  {
   "metadata": {},
   "cell_type": "code",
   "outputs": [],
   "execution_count": null,
   "source": "# transformer",
   "id": "49b3f8b7dfbef4a3"
  },
  {
   "metadata": {},
   "cell_type": "code",
   "outputs": [],
   "execution_count": null,
   "source": "",
   "id": "2a9973b0878c8f74"
  },
  {
   "metadata": {
    "ExecuteTime": {
     "end_time": "2024-04-30T05:05:30.666806Z",
     "start_time": "2024-04-30T05:00:20.824311Z"
    }
   },
   "cell_type": "code",
   "source": "pipe = PixArtAlphaPipeline.from_pretrained(\"PixArt-alpha/PixArt-XL-2-512x512\", torch_dtype=torch.float16, transformer=transformer)",
   "id": "4a56493e37856df7",
   "outputs": [
    {
     "data": {
      "text/plain": [
       "model_index.json:   0%|          | 0.00/452 [00:00<?, ?B/s]"
      ],
      "application/vnd.jupyter.widget-view+json": {
       "version_major": 2,
       "version_minor": 0,
       "model_id": "75489f82df04481fa5c58f45f0d0cdc2"
      }
     },
     "metadata": {},
     "output_type": "display_data"
    },
    {
     "data": {
      "text/plain": [
       "Fetching 14 files:   0%|          | 0/14 [00:00<?, ?it/s]"
      ],
      "application/vnd.jupyter.widget-view+json": {
       "version_major": 2,
       "version_minor": 0,
       "model_id": "a6a26a68b9674ff5bac02f97be7d504c"
      }
     },
     "metadata": {},
     "output_type": "display_data"
    },
    {
     "data": {
      "text/plain": [
       "scheduler/scheduler_config.json:   0%|          | 0.00/655 [00:00<?, ?B/s]"
      ],
      "application/vnd.jupyter.widget-view+json": {
       "version_major": 2,
       "version_minor": 0,
       "model_id": "a842ec8a3ba54519b9ff51ab9c5091bb"
      }
     },
     "metadata": {},
     "output_type": "display_data"
    },
    {
     "data": {
      "text/plain": [
       "text_encoder/config.json:   0%|          | 0.00/907 [00:00<?, ?B/s]"
      ],
      "application/vnd.jupyter.widget-view+json": {
       "version_major": 2,
       "version_minor": 0,
       "model_id": "e053597cf2714dd8a8a3532027f528da"
      }
     },
     "metadata": {},
     "output_type": "display_data"
    },
    {
     "data": {
      "text/plain": [
       "tokenizer/added_tokens.json:   0%|          | 0.00/2.59k [00:00<?, ?B/s]"
      ],
      "application/vnd.jupyter.widget-view+json": {
       "version_major": 2,
       "version_minor": 0,
       "model_id": "77219809c18945ecba22460c624f0e1f"
      }
     },
     "metadata": {},
     "output_type": "display_data"
    },
    {
     "data": {
      "text/plain": [
       "(…)ext_encoder/model.safetensors.index.json:   0%|          | 0.00/19.9k [00:00<?, ?B/s]"
      ],
      "application/vnd.jupyter.widget-view+json": {
       "version_major": 2,
       "version_minor": 0,
       "model_id": "565395fab29747cabe96581e44306061"
      }
     },
     "metadata": {},
     "output_type": "display_data"
    },
    {
     "data": {
      "text/plain": [
       "tokenizer/special_tokens_map.json:   0%|          | 0.00/2.54k [00:00<?, ?B/s]"
      ],
      "application/vnd.jupyter.widget-view+json": {
       "version_major": 2,
       "version_minor": 0,
       "model_id": "073f37d0f13b416da965875568b353f3"
      }
     },
     "metadata": {},
     "output_type": "display_data"
    },
    {
     "data": {
      "text/plain": [
       "tokenizer/tokenizer_config.json:   0%|          | 0.00/20.5k [00:00<?, ?B/s]"
      ],
      "application/vnd.jupyter.widget-view+json": {
       "version_major": 2,
       "version_minor": 0,
       "model_id": "3f8351b190924e01926d4598fc7d691c"
      }
     },
     "metadata": {},
     "output_type": "display_data"
    },
    {
     "data": {
      "text/plain": [
       "(…)encoder/model-00004-of-00004.safetensors:   0%|          | 0.00/4.19G [00:00<?, ?B/s]"
      ],
      "application/vnd.jupyter.widget-view+json": {
       "version_major": 2,
       "version_minor": 0,
       "model_id": "96c172e9fc75444d8133f44bac8e884f"
      }
     },
     "metadata": {},
     "output_type": "display_data"
    },
    {
     "data": {
      "text/plain": [
       "(…)encoder/model-00002-of-00004.safetensors:   0%|          | 0.00/5.00G [00:00<?, ?B/s]"
      ],
      "application/vnd.jupyter.widget-view+json": {
       "version_major": 2,
       "version_minor": 0,
       "model_id": "efa0fdc7904d4f348e0a3bf431142b1e"
      }
     },
     "metadata": {},
     "output_type": "display_data"
    },
    {
     "data": {
      "text/plain": [
       "(…)encoder/model-00003-of-00004.safetensors:   0%|          | 0.00/4.87G [00:00<?, ?B/s]"
      ],
      "application/vnd.jupyter.widget-view+json": {
       "version_major": 2,
       "version_minor": 0,
       "model_id": "92797eb1de0440c4a5a75ebdebe7cf5c"
      }
     },
     "metadata": {},
     "output_type": "display_data"
    },
    {
     "data": {
      "text/plain": [
       "tokenizer/spiece.model:   0%|          | 0.00/792k [00:00<?, ?B/s]"
      ],
      "application/vnd.jupyter.widget-view+json": {
       "version_major": 2,
       "version_minor": 0,
       "model_id": "f54315ea847149e7b627bb264d9c1311"
      }
     },
     "metadata": {},
     "output_type": "display_data"
    },
    {
     "data": {
      "text/plain": [
       "(…)encoder/model-00001-of-00004.safetensors:   0%|          | 0.00/4.99G [00:00<?, ?B/s]"
      ],
      "application/vnd.jupyter.widget-view+json": {
       "version_major": 2,
       "version_minor": 0,
       "model_id": "3707e0dc9d9a4dbd9c3409e237d3da62"
      }
     },
     "metadata": {},
     "output_type": "display_data"
    },
    {
     "data": {
      "text/plain": [
       "vae/diffusion_pytorch_model.safetensors:   0%|          | 0.00/335M [00:00<?, ?B/s]"
      ],
      "application/vnd.jupyter.widget-view+json": {
       "version_major": 2,
       "version_minor": 0,
       "model_id": "c5f2018012794bd1a773f71d01021599"
      }
     },
     "metadata": {},
     "output_type": "display_data"
    },
    {
     "data": {
      "text/plain": [
       "vae/config.json:   0%|          | 0.00/759 [00:00<?, ?B/s]"
      ],
      "application/vnd.jupyter.widget-view+json": {
       "version_major": 2,
       "version_minor": 0,
       "model_id": "a3cf41a463214adb94263dbb736be03b"
      }
     },
     "metadata": {},
     "output_type": "display_data"
    },
    {
     "data": {
      "text/plain": [
       "Loading pipeline components...:   0%|          | 0/5 [00:00<?, ?it/s]"
      ],
      "application/vnd.jupyter.widget-view+json": {
       "version_major": 2,
       "version_minor": 0,
       "model_id": "6664a55a44a948d080d2f4e94f599bae"
      }
     },
     "metadata": {},
     "output_type": "display_data"
    },
    {
     "name": "stderr",
     "output_type": "stream",
     "text": [
      "Special tokens have been added in the vocabulary, make sure the associated word embeddings are fine-tuned or trained.\n"
     ]
    },
    {
     "data": {
      "text/plain": [
       "Loading checkpoint shards:   0%|          | 0/4 [00:00<?, ?it/s]"
      ],
      "application/vnd.jupyter.widget-view+json": {
       "version_major": 2,
       "version_minor": 0,
       "model_id": "4e88a1cdd707474cad5468bf20276cb3"
      }
     },
     "metadata": {},
     "output_type": "display_data"
    }
   ],
   "execution_count": 10
  },
  {
   "metadata": {},
   "cell_type": "code",
   "outputs": [],
   "execution_count": null,
   "source": "",
   "id": "55f8f3d6479dce74"
  }
 ],
 "metadata": {
  "kernelspec": {
   "display_name": "Python 3 (ipykernel)",
   "language": "python",
   "name": "python3"
  },
  "language_info": {
   "codemirror_mode": {
    "name": "ipython",
    "version": 3
   },
   "file_extension": ".py",
   "mimetype": "text/x-python",
   "name": "python",
   "nbconvert_exporter": "python",
   "pygments_lexer": "ipython3",
   "version": "3.10.12"
  }
 },
 "nbformat": 4,
 "nbformat_minor": 5
}
